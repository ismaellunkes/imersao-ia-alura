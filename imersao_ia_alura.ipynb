{
  "nbformat": 4,
  "nbformat_minor": 0,
  "metadata": {
    "colab": {
      "provenance": [],
      "toc_visible": true,
      "authorship_tag": "ABX9TyPXDXvGIlsFQwmYJxcBCQ5l",
      "include_colab_link": true
    },
    "kernelspec": {
      "name": "python3",
      "display_name": "Python 3"
    },
    "language_info": {
      "name": "python"
    }
  },
  "cells": [
    {
      "cell_type": "markdown",
      "metadata": {
        "id": "view-in-github",
        "colab_type": "text"
      },
      "source": [
        "<a href=\"https://colab.research.google.com/github/ismaellunkes/imersao-ia-alura/blob/main/imersao_ia_alura.ipynb\" target=\"_parent\"><img src=\"https://colab.research.google.com/assets/colab-badge.svg\" alt=\"Open In Colab\"/></a>"
      ]
    },
    {
      "cell_type": "markdown",
      "source": [
        "Os parâmetros podem ser verificados no IAStudio: https://aistudio.google.com/app/prompts/1ptXF3YV-o5Ny3hGtiemCgnferAVt5BqO"
      ],
      "metadata": {
        "id": "sgeWRQcyKY5B"
      }
    },
    {
      "cell_type": "markdown",
      "source": [
        "1. Instalando a biblioteca de IA do Google"
      ],
      "metadata": {
        "id": "ICzS5o5BET9u"
      }
    },
    {
      "cell_type": "code",
      "execution_count": null,
      "metadata": {
        "colab": {
          "base_uri": "https://localhost:8080/"
        },
        "id": "Y2YiEK7D_Db8",
        "outputId": "8169abd0-1f7f-4a81-a623-9ba38628d79c"
      },
      "outputs": [
        {
          "output_type": "stream",
          "name": "stdout",
          "text": [
            "\u001b[?25l     \u001b[90m━━━━━━━━━━━━━━━━━━━━━━━━━━━━━━━━━━━━━━━━\u001b[0m \u001b[32m0.0/150.7 kB\u001b[0m \u001b[31m?\u001b[0m eta \u001b[36m-:--:--\u001b[0m\r\u001b[2K     \u001b[91m━━━━━━━━━━━━━━━━━━━━━━━━━━━━━━━━━━━━━━\u001b[0m\u001b[90m╺\u001b[0m\u001b[90m━\u001b[0m \u001b[32m143.4/150.7 kB\u001b[0m \u001b[31m4.5 MB/s\u001b[0m eta \u001b[36m0:00:01\u001b[0m\r\u001b[2K     \u001b[90m━━━━━━━━━━━━━━━━━━━━━━━━━━━━━━━━━━━━━━━━\u001b[0m \u001b[32m150.7/150.7 kB\u001b[0m \u001b[31m3.3 MB/s\u001b[0m eta \u001b[36m0:00:00\u001b[0m\n",
            "\u001b[?25h\u001b[?25l     \u001b[90m━━━━━━━━━━━━━━━━━━━━━━━━━━━━━━━━━━━━━━━━\u001b[0m \u001b[32m0.0/679.1 kB\u001b[0m \u001b[31m?\u001b[0m eta \u001b[36m-:--:--\u001b[0m\r\u001b[2K     \u001b[90m━━━━━━━━━━━━━━━━━━━━━━━━━━━━━━━━━━━━━━━━\u001b[0m \u001b[32m679.1/679.1 kB\u001b[0m \u001b[31m27.7 MB/s\u001b[0m eta \u001b[36m0:00:00\u001b[0m\n",
            "\u001b[?25h"
          ]
        }
      ],
      "source": [
        "!pip install -q -U google-generativeai"
      ]
    },
    {
      "cell_type": "markdown",
      "source": [
        "2. Setar a API_KEY no servidor do modelo (conforme https://aistudio.google.com/app/apikey )"
      ],
      "metadata": {
        "id": "xAJJ38M0G0q7"
      }
    },
    {
      "cell_type": "code",
      "source": [
        "import google.generativeai as genai\n",
        "from google.colab import userdata\n",
        "GOOGLE_API_KEY=userdata.get('SECRET_KEY')\n",
        "genai.configure(api_key=GOOGLE_API_KEY)"
      ],
      "metadata": {
        "id": "MjOohQMQFGlq"
      },
      "execution_count": 3,
      "outputs": []
    },
    {
      "cell_type": "markdown",
      "source": [
        "3. Listar os modelos disponíveis, com recurso de gerar conteúdos."
      ],
      "metadata": {
        "id": "RlHVL2p5Icsf"
      }
    },
    {
      "cell_type": "code",
      "source": [
        "for m in genai.list_models():\n",
        "  if 'generateContent' in m.supported_generation_methods:\n",
        "    print(m.name)"
      ],
      "metadata": {
        "id": "SFNau2N6IbrP",
        "colab": {
          "base_uri": "https://localhost:8080/",
          "height": 156
        },
        "outputId": "e108d3de-f062-430d-f5b6-4062a8daf956"
      },
      "execution_count": 2,
      "outputs": [
        {
          "output_type": "stream",
          "name": "stdout",
          "text": [
            "models/gemini-1.0-pro\n",
            "models/gemini-1.0-pro-001\n",
            "models/gemini-1.0-pro-latest\n",
            "models/gemini-1.0-pro-vision-latest\n",
            "models/gemini-1.5-flash-latest\n",
            "models/gemini-1.5-pro-latest\n",
            "models/gemini-pro\n",
            "models/gemini-pro-vision\n"
          ]
        }
      ]
    },
    {
      "cell_type": "markdown",
      "source": [
        "4. Definir as configurações do modelo"
      ],
      "metadata": {
        "id": "YmxrJzmjJ1J9"
      }
    },
    {
      "cell_type": "code",
      "source": [
        "generation_config_v = {\n",
        "    \"candidate_count\": 1,\n",
        "    \"temperature\": 1\n",
        "}"
      ],
      "metadata": {
        "id": "5Bu6fSCFJ6bf"
      },
      "execution_count": 4,
      "outputs": []
    },
    {
      "cell_type": "markdown",
      "source": [
        "6. Definir as configurações de segurança"
      ],
      "metadata": {
        "id": "wLqkwdfZKNP8"
      }
    },
    {
      "cell_type": "code",
      "source": [
        "safety_settings_v = {\n",
        "    \"HARASSMENT\": \"BLOCK_NONE\",\n",
        "    \"HATE\": \"BLOCK_NONE\",\n",
        "    \"SEXUAL\": \"BLOCK_NONE\",\n",
        "    \"DANGEROUS\": \"BLOCK_NONE\"\n",
        "}"
      ],
      "metadata": {
        "id": "-I3Lig1KKT2b"
      },
      "execution_count": 5,
      "outputs": []
    },
    {
      "cell_type": "markdown",
      "source": [
        "7. Inicializando o modelo"
      ],
      "metadata": {
        "id": "grWCOaLCKV_H"
      }
    },
    {
      "cell_type": "code",
      "source": [
        "model = genai.GenerativeModel(model_name=\"gemini-1.0-pro\",\n",
        "                              generation_config=generation_config_v,\n",
        "                              safety_settings=safety_settings_v)"
      ],
      "metadata": {
        "id": "UGhyCU4TLyCZ"
      },
      "execution_count": 6,
      "outputs": []
    },
    {
      "cell_type": "markdown",
      "source": [
        "8. Gerar um conteúdo para testar"
      ],
      "metadata": {
        "id": "7CYdrfdyMxdf"
      }
    },
    {
      "cell_type": "code",
      "source": [
        "response_teste = model.generate_content(\"Onde fica o estado do RS?\")\n",
        "print(response_teste.text)"
      ],
      "metadata": {
        "colab": {
          "base_uri": "https://localhost:8080/",
          "height": 34
        },
        "id": "Dj5teLm4MxId",
        "outputId": "d7cf651d-ca7f-40aa-e2f1-1a656661cea9"
      },
      "execution_count": 13,
      "outputs": [
        {
          "output_type": "stream",
          "name": "stdout",
          "text": [
            "Região Sul do Brasil\n"
          ]
        }
      ]
    },
    {
      "cell_type": "markdown",
      "source": [
        "9. Criar um chat\n"
      ],
      "metadata": {
        "id": "RdmELf-eNWsX"
      }
    },
    {
      "cell_type": "code",
      "source": [
        "chat = model.start_chat(history=[])\n",
        "prompt = input(\"Esperando prompt...\")\n",
        "while prompt != \"sair\":\n",
        "  response = chat.send_message(prompt)\n",
        "  print(\"Resposta: \" + response.text)\n",
        "  prompt = input(\"Esperando prompt...\")\n"
      ],
      "metadata": {
        "colab": {
          "base_uri": "https://localhost:8080/",
          "height": 784
        },
        "id": "NPr2CkaWNaf5",
        "outputId": "2402486b-d5fc-4946-ddbf-5720dabcfb49"
      },
      "execution_count": 9,
      "outputs": [
        {
          "name": "stdout",
          "output_type": "stream",
          "text": [
            "Esperando prompt...Qual a capital do brasil?\n",
            "Resposta: Brasília\n",
            "Esperando prompt...Quem nasce nesse país é?\n",
            "Resposta: Brasileiro\n",
            "Esperando prompt...Onde fica a Suiça?\n",
            "Resposta: Europa Central\n",
            "Esperando prompt...Quais as coordenadas geográficas do centro da capital desse país?\n",
            "Resposta: Berna, Suíça: 46°56'58\"N 7°26'44\"E\n",
            "Esperando prompt...gere um código de api simples em java\n",
            "Resposta: ```java\n",
            "import java.io.BufferedReader;\n",
            "import java.io.IOException;\n",
            "import java.io.InputStreamReader;\n",
            "import java.net.HttpURLConnection;\n",
            "import java.net.URL;\n",
            "\n",
            "public class SimpleApiGetRequest {\n",
            "\n",
            "    public static void main(String[] args) throws IOException {\n",
            "        // Crie um URL para a API\n",
            "        URL url = new URL(\"https://api.publicapis.org/entries\");\n",
            "\n",
            "        // Abra uma conexão com a API\n",
            "        HttpURLConnection connection = (HttpURLConnection) url.openConnection();\n",
            "\n",
            "        // Defina o método da solicitação HTTP\n",
            "        connection.setRequestMethod(\"GET\");\n",
            "\n",
            "        // Leia a resposta da API\n",
            "        BufferedReader reader = new BufferedReader(new InputStreamReader(connection.getInputStream()));\n",
            "        String line;\n",
            "        StringBuilder response = new StringBuilder();\n",
            "        while ((line = reader.readLine()) != null) {\n",
            "            response.append(line);\n",
            "        }\n",
            "        reader.close();\n",
            "\n",
            "        // Imprima a resposta da API\n",
            "        System.out.println(response);\n",
            "    }\n",
            "}\n",
            "```\n",
            "Esperando prompt...sair\n"
          ]
        }
      ]
    }
  ]
}